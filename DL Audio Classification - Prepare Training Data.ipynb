{
 "cells": [
  {
   "cell_type": "markdown",
   "metadata": {},
   "source": [
    "# Deep Learning from Audio Signals\n",
    "\n",
    "### Prepare Training Data: MFCCs from Genre music files and store in JSON file\n",
    "\n",
    "Rajesh Siraskar | 03-May-2021"
   ]
  },
  {
   "cell_type": "code",
   "execution_count": 1,
   "metadata": {},
   "outputs": [],
   "source": [
    "import json\n",
    "import os\n",
    "import math\n",
    "import librosa"
   ]
  },
  {
   "cell_type": "code",
   "execution_count": 2,
   "metadata": {},
   "outputs": [],
   "source": [
    "DATA_PATH = \"audio_files/genres_REDUCED/\"\n",
    "JSON_FILE = \"audio_files/mfcc_json.json\"\n",
    "SAMPLE_RATE = 22050\n",
    "TRACK_DURATION = 30 # Seconds - this is known for the music files\n",
    "\n",
    "SAMPLES_PER_TRACK = SAMPLE_RATE * TRACK_DURATION"
   ]
  },
  {
   "cell_type": "code",
   "execution_count": 3,
   "metadata": {},
   "outputs": [],
   "source": [
    "def save_mfcc(data_path, json_file, num_mfcc=13, n_fft=2048, hop_length=512, num_segments=10):\n",
    "    \"\"\"Extract MFC coefficients from music data-set and save them into a *SINGLE* json file along with labels (genre) \n",
    "\n",
    "        :param dataset_path (str): Path to dataset\n",
    "        :param json_path (str): Path to json file used to save MFCCs\n",
    "        :param num_mfcc (int): Number of coefficients to extract\n",
    "        :param n_fft (int): Interval we consider to apply FFT. Measured in # of samples\n",
    "        :param hop_length (int): Sliding window for FFT. Measured in # of samples\n",
    "        :param: num_segments (int): Number of segments we want to divide sample tracks into\n",
    "        :return:\n",
    "        \"\"\"\n",
    "\n",
    "    # JSON dictionary to store mapping, labels, and MFCCs\n",
    "    data = {\n",
    "        \"mapping\": [],  # Semantic label i.e. \"classical\", \"jazz\", \"blues\" etc.\n",
    "        \"labels\": [],   # Numeric labels i.e. 0, 1, 2 ... \n",
    "        \"mfcc\": []      # MFCC - these are floats. 13 by default for each segment\n",
    "    }\n",
    "\n",
    "    # Note: num_mfcc_vectors_per_segment increases if we reduce the num_segments\n",
    "    samples_per_segment = int(SAMPLES_PER_TRACK/num_segments)\n",
    "    num_mfcc_vectors_per_segment = math.ceil(samples_per_segment/hop_length)\n",
    "    print(\"\\n - SAMPLES_PER_TRACK: {}, num_mfcc_vectors_per_segment: {}\".format(SAMPLES_PER_TRACK, num_mfcc_vectors_per_segment))\n",
    "\n",
    "    # Loop through all genre sub-folder\n",
    "    #  Use os.walk that is like a crawler on nested sub-folders \n",
    "    #  TRICK: 'enumerate' on os.walk allows converting the \"GENRE sub-folder\" into a NUMBER\n",
    "    #         and use that as the NUMERIC label!\n",
    "    for n_label, (dirpath, dirnames, filenames) in enumerate(os.walk(data_path)):\n",
    "\n",
    "        # Ensure we're processing a genre sub-folder level and not the highest level folder\n",
    "        if dirpath is not data_path:\n",
    "\n",
    "            # Save genre label (i.e., sub-folder name) in the mapping\n",
    "            # Get the semantic genre name from the full file path name's last component\n",
    "            semantic_label = dirpath.split(\"/\")[-1]\n",
    "            data[\"mapping\"].append(semantic_label)\n",
    "            print(\"\\n * Processing genre: \\'{}\\'\".format(semantic_label))\n",
    "\n",
    "            # Process all audio files in genre sub-dir\n",
    "            for fname in filenames:\n",
    "                # Load audio file\n",
    "                file_path = os.path.join(dirpath, fname)\n",
    "                signal, sample_rate = librosa.load(file_path, sr=SAMPLE_RATE)\n",
    "\n",
    "                # Process all segments of audio file\n",
    "                for n_segment in range(num_segments):\n",
    "\n",
    "                    # Calculate start and finish sample for current segment\n",
    "                    start = samples_per_segment*n_segment\n",
    "                    finish = start+samples_per_segment\n",
    "\n",
    "                    # Extract mfcc\n",
    "                    mfcc = librosa.feature.mfcc(signal[start:finish], sample_rate, n_mfcc=num_mfcc, n_fft=n_fft, hop_length=hop_length)\n",
    "                    \n",
    "                    # Transpose\n",
    "                    mfcc = mfcc.T\n",
    "\n",
    "                    # Store only mfcc feature with expected number of vectors\n",
    "                    if len(mfcc) == num_mfcc_vectors_per_segment:\n",
    "                        # Note: mfcc is a numpy array and needs to be converted to list \n",
    "                        #  before storing in JSON\n",
    "                        data[\"mfcc\"].append(mfcc.tolist())\n",
    "                        data[\"labels\"].append(n_label-1)\n",
    "                        wav_file = file_path.split(\"/\")[-1] \n",
    "                        print(\"   --- {}, segment:{}\".format(wav_file, n_segment+1))\n",
    "\n",
    "    print(\"\\n\\n - MFCC's extracted. Write data to JSON\")                        \n",
    "    # Save MFCCs to json file\n",
    "    with open(json_file, \"w\") as fp:\n",
    "        json.dump(data, fp, indent=4)\n",
    "        \n",
    "    print(\" - JSON file ready\")"
   ]
  },
  {
   "cell_type": "code",
   "execution_count": 4,
   "metadata": {},
   "outputs": [
    {
     "name": "stdout",
     "output_type": "stream",
     "text": [
      "\n",
      " - SAMPLES_PER_TRACK: 661500, num_mfcc_vectors_per_segment: 130\n",
      "\n",
      " * Processing genre: 'blues'\n",
      "   --- blues\\blues.00000.wav, segment:1\n",
      "   --- blues\\blues.00000.wav, segment:2\n",
      "   --- blues\\blues.00000.wav, segment:3\n",
      "   --- blues\\blues.00000.wav, segment:4\n",
      "   --- blues\\blues.00000.wav, segment:5\n",
      "   --- blues\\blues.00000.wav, segment:6\n",
      "   --- blues\\blues.00000.wav, segment:7\n",
      "   --- blues\\blues.00000.wav, segment:8\n",
      "   --- blues\\blues.00000.wav, segment:9\n",
      "   --- blues\\blues.00000.wav, segment:10\n",
      "   --- blues\\blues.00001.wav, segment:1\n",
      "   --- blues\\blues.00001.wav, segment:2\n",
      "   --- blues\\blues.00001.wav, segment:3\n",
      "   --- blues\\blues.00001.wav, segment:4\n",
      "   --- blues\\blues.00001.wav, segment:5\n",
      "   --- blues\\blues.00001.wav, segment:6\n",
      "   --- blues\\blues.00001.wav, segment:7\n",
      "   --- blues\\blues.00001.wav, segment:8\n",
      "   --- blues\\blues.00001.wav, segment:9\n",
      "   --- blues\\blues.00001.wav, segment:10\n",
      "\n",
      " * Processing genre: 'classical'\n",
      "   --- classical\\classical.00000.wav, segment:1\n",
      "   --- classical\\classical.00000.wav, segment:2\n",
      "   --- classical\\classical.00000.wav, segment:3\n",
      "   --- classical\\classical.00000.wav, segment:4\n",
      "   --- classical\\classical.00000.wav, segment:5\n",
      "   --- classical\\classical.00000.wav, segment:6\n",
      "   --- classical\\classical.00000.wav, segment:7\n",
      "   --- classical\\classical.00000.wav, segment:8\n",
      "   --- classical\\classical.00000.wav, segment:9\n",
      "   --- classical\\classical.00000.wav, segment:10\n",
      "   --- classical\\classical.00001.wav, segment:1\n",
      "   --- classical\\classical.00001.wav, segment:2\n",
      "   --- classical\\classical.00001.wav, segment:3\n",
      "   --- classical\\classical.00001.wav, segment:4\n",
      "   --- classical\\classical.00001.wav, segment:5\n",
      "   --- classical\\classical.00001.wav, segment:6\n",
      "   --- classical\\classical.00001.wav, segment:7\n",
      "   --- classical\\classical.00001.wav, segment:8\n",
      "   --- classical\\classical.00001.wav, segment:9\n",
      "   --- classical\\classical.00001.wav, segment:10\n",
      "\n",
      " * Processing genre: 'country'\n",
      "   --- country\\country.00000.wav, segment:1\n",
      "   --- country\\country.00000.wav, segment:2\n",
      "   --- country\\country.00000.wav, segment:3\n",
      "   --- country\\country.00000.wav, segment:4\n",
      "   --- country\\country.00000.wav, segment:5\n",
      "   --- country\\country.00000.wav, segment:6\n",
      "   --- country\\country.00000.wav, segment:7\n",
      "   --- country\\country.00000.wav, segment:8\n",
      "   --- country\\country.00000.wav, segment:9\n",
      "   --- country\\country.00000.wav, segment:10\n",
      "   --- country\\country.00001.wav, segment:1\n",
      "   --- country\\country.00001.wav, segment:2\n",
      "   --- country\\country.00001.wav, segment:3\n",
      "   --- country\\country.00001.wav, segment:4\n",
      "   --- country\\country.00001.wav, segment:5\n",
      "   --- country\\country.00001.wav, segment:6\n",
      "   --- country\\country.00001.wav, segment:7\n",
      "   --- country\\country.00001.wav, segment:8\n",
      "   --- country\\country.00001.wav, segment:9\n",
      "   --- country\\country.00001.wav, segment:10\n",
      "\n",
      " * Processing genre: 'disco'\n",
      "   --- disco\\disco.00000.wav, segment:1\n",
      "   --- disco\\disco.00000.wav, segment:2\n",
      "   --- disco\\disco.00000.wav, segment:3\n",
      "   --- disco\\disco.00000.wav, segment:4\n",
      "   --- disco\\disco.00000.wav, segment:5\n",
      "   --- disco\\disco.00000.wav, segment:6\n",
      "   --- disco\\disco.00000.wav, segment:7\n",
      "   --- disco\\disco.00000.wav, segment:8\n",
      "   --- disco\\disco.00000.wav, segment:9\n",
      "   --- disco\\disco.00000.wav, segment:10\n",
      "   --- disco\\disco.00001.wav, segment:1\n",
      "   --- disco\\disco.00001.wav, segment:2\n",
      "   --- disco\\disco.00001.wav, segment:3\n",
      "   --- disco\\disco.00001.wav, segment:4\n",
      "   --- disco\\disco.00001.wav, segment:5\n",
      "   --- disco\\disco.00001.wav, segment:6\n",
      "   --- disco\\disco.00001.wav, segment:7\n",
      "   --- disco\\disco.00001.wav, segment:8\n",
      "   --- disco\\disco.00001.wav, segment:9\n",
      "   --- disco\\disco.00001.wav, segment:10\n",
      "\n",
      "\n",
      " - MFCC's extracted. Write data to JSON\n",
      " - JSON file ready\n"
     ]
    }
   ],
   "source": [
    "save_mfcc(DATA_PATH, JSON_FILE, num_segments=10)"
   ]
  },
  {
   "cell_type": "markdown",
   "metadata": {},
   "source": [
    "Understand Saved Data\n",
    "====================\n",
    "\n",
    "- Elements saved\n",
    "- Dimensions of data\n",
    "- Later in training this load_data function is used and reshape data for training\n",
    "\n",
    "\n",
    "**3-D array dimensions dim.**: \n",
    "- Given: hop_length=512; n_classes = 4 genres; training data is (only) 2 wav.files per genre \n",
    "- dimension 1: num_segments x n_classes x .wav-files-per-class \n",
    "- dimension 2: num_mfcc_vectors_per_segment = math.ceil(samples_per_segment/hop_length)\n",
    "- dimension 3: num_mfcc\n",
    "\n",
    "```\n",
    "Example: \n",
    "\n",
    "- hop_length=512; n_classes = 4 genres; .wav files per genre = 2\n",
    "- num_segments = 10; num_mfcc=13; SAMPLE_RATE=22050; TRACK_DURATION=30 s\n",
    "- SAMPLES_PER_TRACK = SAMPLE_RATE * TRACK_DURATION = 22050 x 30\n",
    "- samples_per_segment = int(SAMPLES_PER_TRACK/num_segments) = int(22050 x 30/10) = 66150.0\n",
    "\n",
    "1. dim-1: 10 x 4 x 2 = 80 \n",
    "2. dim-2: math.ceil(samples_per_segment/hop_length) = 66150/512 = 129.12 -> ceil -> 130\n",
    "3. dim-3: 13\n",
    "\n",
    "Therefore X.data.shape = (80, 130, 13) and y.data.shape: (80,)\n",
    "```\n",
    "\n",
    "**Input layer**: \n",
    "```\n",
    "    # input = 2D: MFCC for each segment, and each mfcc is a vector \n",
    "    #   over an interval = hop-length\n",
    "    #   first-dim: interval = inputs.shape[1]\n",
    "    #   second-dim: mfcc = inputs.shape[2]\n",
    "    #   NOTE: inputs.shape[0] is the segment number and we are not passing that\n",
    "    keras.layers.Flatten(input_shape=(X.shape[1], X.shape[2])),\n",
    "```"
   ]
  },
  {
   "cell_type": "code",
   "execution_count": 5,
   "metadata": {},
   "outputs": [],
   "source": [
    "import json\n",
    "import numpy as np\n",
    "\n",
    "def load_data (json_file):\n",
    "    with open(json_file, \"r\") as fp:\n",
    "        data = json.load(fp)\n",
    "        \n",
    "        # Note: mfcc was converted from a numpy array to list before storing in JSON\n",
    "        #  Need convert back to numpy array\n",
    "        X = np.array(data[\"mfcc\"])\n",
    "        y = np.array(data[\"labels\"])\n",
    "        \n",
    "    return X, y"
   ]
  },
  {
   "cell_type": "code",
   "execution_count": 6,
   "metadata": {},
   "outputs": [],
   "source": [
    "### 1. Load data\n",
    "X, y = load_data (json_file = JSON_FILE)"
   ]
  },
  {
   "cell_type": "code",
   "execution_count": 7,
   "metadata": {},
   "outputs": [
    {
     "name": "stdout",
     "output_type": "stream",
     "text": [
      "num_mfcc=13; num_segments=10; num_mfcc_vectors_per_segment: 130\n",
      "\n",
      "X.data.shape:  (80, 130, 13)\n",
      "y.data.shape:  (80,)\n"
     ]
    }
   ],
   "source": [
    "print(\"num_mfcc=13; num_segments=10; num_mfcc_vectors_per_segment: 130\\n\")\n",
    "\n",
    "print(\"X.data.shape: \", X.data.shape)\n",
    "print(\"y.data.shape: \", y.data.shape)"
   ]
  },
  {
   "cell_type": "code",
   "execution_count": 39,
   "metadata": {},
   "outputs": [
    {
     "data": {
      "text/plain": [
       "-212.68553161621094"
      ]
     },
     "execution_count": 39,
     "metadata": {},
     "output_type": "execute_result"
    }
   ],
   "source": [
    "# print 1st element of the 3 D array\n",
    "X[0][0][0]"
   ]
  },
  {
   "cell_type": "code",
   "execution_count": 50,
   "metadata": {},
   "outputs": [
    {
     "name": "stdout",
     "output_type": "stream",
     "text": [
      "num_mfcc=8; num_segments=4; num_mfcc_vectors_per_segment: 323\n",
      "\n",
      "X.data.shape:  (32, 323, 8)\n",
      "y.data.shape:  (32,)\n"
     ]
    }
   ],
   "source": [
    "X, y = load_data (json_file = JSON_FILE)\n",
    "\n",
    "print(\"num_mfcc=8; num_segments=4; num_mfcc_vectors_per_segment: 323\\n\")\n",
    "\n",
    "print(\"X.data.shape: \", X.data.shape)\n",
    "print(\"y.data.shape: \", y.data.shape)"
   ]
  },
  {
   "cell_type": "code",
   "execution_count": 53,
   "metadata": {},
   "outputs": [
    {
     "name": "stdout",
     "output_type": "stream",
     "text": [
      "num_mfcc=10; num_segments=6; num_mfcc_vectors_per_segment: 216\n",
      "\n",
      "X.data.shape:  (48, 216, 10)\n",
      "y.data.shape:  (48,)\n"
     ]
    }
   ],
   "source": [
    "X, y = load_data (json_file = JSON_FILE)\n",
    "\n",
    "print(\"num_mfcc=10; num_segments=6; num_mfcc_vectors_per_segment: 216\\n\")\n",
    "\n",
    "print(\"X.data.shape: \", X.data.shape)\n",
    "print(\"y.data.shape: \", y.data.shape)"
   ]
  },
  {
   "cell_type": "code",
   "execution_count": 60,
   "metadata": {},
   "outputs": [
    {
     "data": {
      "text/plain": [
       "(66150, 130)"
      ]
     },
     "execution_count": 60,
     "metadata": {},
     "output_type": "execute_result"
    }
   ],
   "source": [
    "samples_per_segment = int(SAMPLES_PER_TRACK/10)\n",
    "num_mfcc_vectors_per_segment = math.ceil(samples_per_segment/512)\n",
    "samples_per_segment, num_mfcc_vectors_per_segment"
   ]
  },
  {
   "cell_type": "code",
   "execution_count": 77,
   "metadata": {},
   "outputs": [
    {
     "data": {
      "text/plain": [
       "(130, 13)"
      ]
     },
     "execution_count": 77,
     "metadata": {},
     "output_type": "execute_result"
    }
   ],
   "source": [
    "X.shape[1], X.shape[2]"
   ]
  },
  {
   "cell_type": "code",
   "execution_count": null,
   "metadata": {},
   "outputs": [],
   "source": []
  }
 ],
 "metadata": {
  "kernelspec": {
   "display_name": "Python 3",
   "language": "python",
   "name": "python3"
  },
  "language_info": {
   "codemirror_mode": {
    "name": "ipython",
    "version": 3
   },
   "file_extension": ".py",
   "mimetype": "text/x-python",
   "name": "python",
   "nbconvert_exporter": "python",
   "pygments_lexer": "ipython3",
   "version": "3.8.3"
  }
 },
 "nbformat": 4,
 "nbformat_minor": 4
}
